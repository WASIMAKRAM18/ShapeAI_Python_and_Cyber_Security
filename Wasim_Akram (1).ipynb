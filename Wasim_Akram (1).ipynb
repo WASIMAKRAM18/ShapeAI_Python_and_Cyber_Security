{
  "nbformat": 4,
  "nbformat_minor": 0,
  "metadata": {
    "colab": {
      "name": "Wasim_Akram.ipynb",
      "provenance": []
    },
    "kernelspec": {
      "name": "python3",
      "display_name": "Python 3"
    },
    "language_info": {
      "name": "python"
    }
  },
  "cells": [
    {
      "cell_type": "code",
      "metadata": {
        "colab": {
          "base_uri": "https://localhost:8080/"
        },
        "id": "zoLHJ1rsT1xJ",
        "outputId": "bb01bb82-b801-4a20-c067-ab7f9a9c99cf"
      },
      "source": [
        "import requests\n",
        "from datetime import datetime\n",
        "api_key = '34f36a54fd288825faa423eb6d9ab35b'\n",
        "location = input(\"Enter the City name : \")\n",
        "complete_api_link = \"https://api.openweathermap.org/data/2.5/weather?q=\"+location+\"&appid=\"+api_key\n",
        "api_link = requests.get(complete_api_link)\n",
        "api_data = api_link.json()\n",
        "\n",
        "temp_city = ((api_data['main']['temp']) - 282.55)\n",
        "weather_desc = api_data['weather'][0]['description']\n",
        "hmdt = api_data['main']['humidity']\n",
        "wind_spd = api_data['wind']['speed']\n",
        "date_time = datetime.now().strftime(\"%d %b %Y | %I:%M:%S %p\")\n",
        "\n",
        "print(\"-------------------------------------------------------------------\")\n",
        "print(\"Weather Stats for - {} || {}\".format(location.upper(), date_time))\n",
        "print(\"-------------------------------------------------------------------\")\n",
        "\n",
        "print(\"Current temperature is : {:.2f} deg C\".format(temp_city))\n",
        "print(\"Current weather desc   :\",weather_desc)\n",
        "print(\"Current Humidity       :\",hmdt,'%')\n",
        "print(\"Current wind speed     :\",wind_spd,'kmph')\n"
      ],
      "execution_count": 13,
      "outputs": [
        {
          "output_type": "stream",
          "text": [
            "Enter the City name : ranchi\n",
            "-------------------------------------------------------------------\n",
            "Weather Stats for - RANCHI || 23 Jun 2021 | 12:28:59 PM\n",
            "-------------------------------------------------------------------\n",
            "Current temperature is : 16.60 deg C\n",
            "Current weather desc   : haze\n",
            "Current Humidity       : 94 %\n",
            "Current wind speed     : 2.57 kmph\n"
          ],
          "name": "stdout"
        }
      ]
    },
    {
      "cell_type": "markdown",
      "metadata": {
        "id": "UAd4X9em2N5N"
      },
      "source": [
        ""
      ]
    }
  ]
}